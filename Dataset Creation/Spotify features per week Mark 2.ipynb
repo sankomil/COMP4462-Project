{
 "cells": [
  {
   "cell_type": "code",
   "execution_count": 1,
   "metadata": {},
   "outputs": [],
   "source": [
    "# importing the necessary packages\n",
    "import spotipy \n",
    "sp = spotipy.Spotify() \n",
    "from spotipy.oauth2 import SpotifyClientCredentials \n",
    "import spotipy.util as util"
   ]
  },
  {
   "cell_type": "code",
   "execution_count": 2,
   "metadata": {},
   "outputs": [],
   "source": [
    "import spotipy\n",
    "from spotipy.oauth2 import SpotifyClientCredentials\n",
    "\n",
    "cid =\"31ca9408c9f14c5e83c94b8a2f10c5ad\" \n",
    "secret = \"7b582ea9c6b44851be183da18c77acd2\"\n",
    "\n",
    "client_credentials_manager = SpotifyClientCredentials(client_id=cid, client_secret=secret)\n",
    "sp = spotipy.Spotify(client_credentials_manager=client_credentials_manager)"
   ]
  },
  {
   "cell_type": "code",
   "execution_count": 3,
   "metadata": {},
   "outputs": [
    {
     "name": "stdout",
     "output_type": "stream",
     "text": [
      "Column headings:\n",
      "Index(['Position', 'TrackName', 'Artist', 'Streams', 'URL', 'URI'], dtype='object')\n"
     ]
    }
   ],
   "source": [
    "import pandas as pd\n",
    "from pandas import ExcelFile\n",
    "from pandas import ExcelWriter\n",
    "\n",
    "tracks = pd.read_excel('regional-global-weekly-latest - xlsv.xlsx')\n",
    "\n",
    "print(\"Column headings:\")\n",
    "print(tracks.columns)"
   ]
  },
  {
   "cell_type": "code",
   "execution_count": 7,
   "metadata": {},
   "outputs": [
    {
     "name": "stdout",
     "output_type": "stream",
     "text": [
      "(200, 4)\n"
     ]
    },
    {
     "data": {
      "text/html": [
       "<div>\n",
       "<style scoped>\n",
       "    .dataframe tbody tr th:only-of-type {\n",
       "        vertical-align: middle;\n",
       "    }\n",
       "\n",
       "    .dataframe tbody tr th {\n",
       "        vertical-align: top;\n",
       "    }\n",
       "\n",
       "    .dataframe thead th {\n",
       "        text-align: right;\n",
       "    }\n",
       "</style>\n",
       "<table border=\"1\" class=\"dataframe\">\n",
       "  <thead>\n",
       "    <tr style=\"text-align: right;\">\n",
       "      <th></th>\n",
       "      <th>artist_name</th>\n",
       "      <th>track_name</th>\n",
       "      <th>track_id</th>\n",
       "      <th>popularity</th>\n",
       "    </tr>\n",
       "  </thead>\n",
       "  <tbody>\n",
       "    <tr>\n",
       "      <td>0</td>\n",
       "      <td>The Weeknd</td>\n",
       "      <td>Blinding Lights</td>\n",
       "      <td>0VjIjW4GlUZAMYd2vXMi3b</td>\n",
       "      <td>1</td>\n",
       "    </tr>\n",
       "    <tr>\n",
       "      <td>1</td>\n",
       "      <td>Drake</td>\n",
       "      <td>Toosie Slide</td>\n",
       "      <td>127QTOFJsJQp5LbJbu3A1y</td>\n",
       "      <td>2</td>\n",
       "    </tr>\n",
       "    <tr>\n",
       "      <td>2</td>\n",
       "      <td>SAINt JHN</td>\n",
       "      <td>Roses - Imanbek Remix</td>\n",
       "      <td>24Yi9hE78yPEbZ4kxyoXAI</td>\n",
       "      <td>3</td>\n",
       "    </tr>\n",
       "    <tr>\n",
       "      <td>3</td>\n",
       "      <td>Powfu</td>\n",
       "      <td>death bed (coffee for your head) (feat. beabad...</td>\n",
       "      <td>7eJMfftS33KTjuF7lTsMCx</td>\n",
       "      <td>4</td>\n",
       "    </tr>\n",
       "    <tr>\n",
       "      <td>4</td>\n",
       "      <td>Dua Lipa</td>\n",
       "      <td>Don't Start Now</td>\n",
       "      <td>3PfIrDoz19wz7qK7tYeu62</td>\n",
       "      <td>5</td>\n",
       "    </tr>\n",
       "  </tbody>\n",
       "</table>\n",
       "</div>"
      ],
      "text/plain": [
       "  artist_name                                         track_name  \\\n",
       "0  The Weeknd                                    Blinding Lights   \n",
       "1       Drake                                       Toosie Slide   \n",
       "2   SAINt JHN                              Roses - Imanbek Remix   \n",
       "3       Powfu  death bed (coffee for your head) (feat. beabad...   \n",
       "4    Dua Lipa                                    Don't Start Now   \n",
       "\n",
       "                 track_id  popularity  \n",
       "0  0VjIjW4GlUZAMYd2vXMi3b           1  \n",
       "1  127QTOFJsJQp5LbJbu3A1y           2  \n",
       "2  24Yi9hE78yPEbZ4kxyoXAI           3  \n",
       "3  7eJMfftS33KTjuF7lTsMCx           4  \n",
       "4  3PfIrDoz19wz7qK7tYeu62           5  "
      ]
     },
     "execution_count": 7,
     "metadata": {},
     "output_type": "execute_result"
    }
   ],
   "source": [
    "df_tracks = pd.DataFrame({'artist_name':tracks.Artist,'track_name':tracks.TrackName,'track_id':tracks.URI,'popularity':tracks.Position})\n",
    "print(df_tracks.shape)\n",
    "df_tracks.head()"
   ]
  },
  {
   "cell_type": "code",
   "execution_count": 9,
   "metadata": {},
   "outputs": [
    {
     "data": {
      "text/plain": [
       "0"
      ]
     },
     "execution_count": 9,
     "metadata": {},
     "output_type": "execute_result"
    }
   ],
   "source": [
    "grouped = df_tracks.groupby(['artist_name','track_name'], as_index=True).size()\n",
    "grouped[grouped > 1].count()"
   ]
  },
  {
   "cell_type": "code",
   "execution_count": 10,
   "metadata": {},
   "outputs": [],
   "source": [
    "df_tracks.drop_duplicates(subset=['artist_name','track_name'], inplace=True)"
   ]
  },
  {
   "cell_type": "code",
   "execution_count": 11,
   "metadata": {},
   "outputs": [
    {
     "data": {
      "text/plain": [
       "0"
      ]
     },
     "execution_count": 11,
     "metadata": {},
     "output_type": "execute_result"
    }
   ],
   "source": [
    "# doing the same grouping as before to verify the solution\n",
    "grouped_after_dropping = df_tracks.groupby(['artist_name','track_name'], as_index=True).size()\n",
    "grouped_after_dropping[grouped_after_dropping > 1].count()"
   ]
  },
  {
   "cell_type": "code",
   "execution_count": 12,
   "metadata": {},
   "outputs": [
    {
     "data": {
      "text/plain": [
       "artist_name    0\n",
       "track_name     0\n",
       "track_id       0\n",
       "popularity     0\n",
       "dtype: int64"
      ]
     },
     "execution_count": 12,
     "metadata": {},
     "output_type": "execute_result"
    }
   ],
   "source": [
    "df_tracks[df_tracks.duplicated(subset=['artist_name','track_name'],keep=False)].count()\n"
   ]
  },
  {
   "cell_type": "code",
   "execution_count": 13,
   "metadata": {},
   "outputs": [
    {
     "name": "stdout",
     "output_type": "stream",
     "text": [
      "Number of tracks where no audio features were available: 0\n",
      "Time to run this code (in seconds): 0.5588975000000005\n"
     ]
    }
   ],
   "source": [
    "#again measuring the time\n",
    "import timeit\n",
    "start = timeit.default_timer()\n",
    "\n",
    "# empty list, batchsize and the counter for None results\n",
    "rows = []\n",
    "batchsize = 100\n",
    "None_counter = 0\n",
    "\n",
    "for i in range(0,len(df_tracks['track_id']),batchsize):\n",
    "    batch = df_tracks['track_id'][i:i+batchsize]\n",
    "    feature_results = sp.audio_features(batch)\n",
    "    for i, t in enumerate(feature_results):\n",
    "        if t == None:\n",
    "            None_counter = None_counter + 1\n",
    "        else:\n",
    "            rows.append(t)\n",
    "            \n",
    "print('Number of tracks where no audio features were available:',None_counter)\n",
    "\n",
    "stop = timeit.default_timer()\n",
    "print ('Time to run this code (in seconds):',stop - start)"
   ]
  },
  {
   "cell_type": "code",
   "execution_count": 14,
   "metadata": {},
   "outputs": [
    {
     "name": "stdout",
     "output_type": "stream",
     "text": [
      "number of elements in the track_id list: 200\n"
     ]
    }
   ],
   "source": [
    "print('number of elements in the track_id list:', len(rows))\n"
   ]
  },
  {
   "cell_type": "code",
   "execution_count": 15,
   "metadata": {},
   "outputs": [
    {
     "name": "stdout",
     "output_type": "stream",
     "text": [
      "Shape of the dataset: (200, 18)\n"
     ]
    },
    {
     "data": {
      "text/html": [
       "<div>\n",
       "<style scoped>\n",
       "    .dataframe tbody tr th:only-of-type {\n",
       "        vertical-align: middle;\n",
       "    }\n",
       "\n",
       "    .dataframe tbody tr th {\n",
       "        vertical-align: top;\n",
       "    }\n",
       "\n",
       "    .dataframe thead th {\n",
       "        text-align: right;\n",
       "    }\n",
       "</style>\n",
       "<table border=\"1\" class=\"dataframe\">\n",
       "  <thead>\n",
       "    <tr style=\"text-align: right;\">\n",
       "      <th></th>\n",
       "      <th>danceability</th>\n",
       "      <th>energy</th>\n",
       "      <th>key</th>\n",
       "      <th>loudness</th>\n",
       "      <th>mode</th>\n",
       "      <th>speechiness</th>\n",
       "      <th>acousticness</th>\n",
       "      <th>instrumentalness</th>\n",
       "      <th>liveness</th>\n",
       "      <th>valence</th>\n",
       "      <th>tempo</th>\n",
       "      <th>type</th>\n",
       "      <th>id</th>\n",
       "      <th>uri</th>\n",
       "      <th>track_href</th>\n",
       "      <th>analysis_url</th>\n",
       "      <th>duration_ms</th>\n",
       "      <th>time_signature</th>\n",
       "    </tr>\n",
       "  </thead>\n",
       "  <tbody>\n",
       "    <tr>\n",
       "      <td>0</td>\n",
       "      <td>0.514</td>\n",
       "      <td>0.730</td>\n",
       "      <td>1</td>\n",
       "      <td>-5.934</td>\n",
       "      <td>1</td>\n",
       "      <td>0.0598</td>\n",
       "      <td>0.00146</td>\n",
       "      <td>0.000095</td>\n",
       "      <td>0.0897</td>\n",
       "      <td>0.334</td>\n",
       "      <td>171.005</td>\n",
       "      <td>audio_features</td>\n",
       "      <td>0VjIjW4GlUZAMYd2vXMi3b</td>\n",
       "      <td>spotify:track:0VjIjW4GlUZAMYd2vXMi3b</td>\n",
       "      <td>https://api.spotify.com/v1/tracks/0VjIjW4GlUZA...</td>\n",
       "      <td>https://api.spotify.com/v1/audio-analysis/0VjI...</td>\n",
       "      <td>200040</td>\n",
       "      <td>4</td>\n",
       "    </tr>\n",
       "    <tr>\n",
       "      <td>1</td>\n",
       "      <td>0.834</td>\n",
       "      <td>0.454</td>\n",
       "      <td>1</td>\n",
       "      <td>-9.750</td>\n",
       "      <td>0</td>\n",
       "      <td>0.2010</td>\n",
       "      <td>0.32100</td>\n",
       "      <td>0.000006</td>\n",
       "      <td>0.1140</td>\n",
       "      <td>0.837</td>\n",
       "      <td>81.618</td>\n",
       "      <td>audio_features</td>\n",
       "      <td>127QTOFJsJQp5LbJbu3A1y</td>\n",
       "      <td>spotify:track:127QTOFJsJQp5LbJbu3A1y</td>\n",
       "      <td>https://api.spotify.com/v1/tracks/127QTOFJsJQp...</td>\n",
       "      <td>https://api.spotify.com/v1/audio-analysis/127Q...</td>\n",
       "      <td>247059</td>\n",
       "      <td>4</td>\n",
       "    </tr>\n",
       "    <tr>\n",
       "      <td>2</td>\n",
       "      <td>0.770</td>\n",
       "      <td>0.724</td>\n",
       "      <td>8</td>\n",
       "      <td>-5.484</td>\n",
       "      <td>1</td>\n",
       "      <td>0.0495</td>\n",
       "      <td>0.01670</td>\n",
       "      <td>0.010700</td>\n",
       "      <td>0.3530</td>\n",
       "      <td>0.898</td>\n",
       "      <td>121.975</td>\n",
       "      <td>audio_features</td>\n",
       "      <td>24Yi9hE78yPEbZ4kxyoXAI</td>\n",
       "      <td>spotify:track:24Yi9hE78yPEbZ4kxyoXAI</td>\n",
       "      <td>https://api.spotify.com/v1/tracks/24Yi9hE78yPE...</td>\n",
       "      <td>https://api.spotify.com/v1/audio-analysis/24Yi...</td>\n",
       "      <td>176840</td>\n",
       "      <td>4</td>\n",
       "    </tr>\n",
       "    <tr>\n",
       "      <td>3</td>\n",
       "      <td>0.726</td>\n",
       "      <td>0.431</td>\n",
       "      <td>8</td>\n",
       "      <td>-8.765</td>\n",
       "      <td>0</td>\n",
       "      <td>0.1350</td>\n",
       "      <td>0.73100</td>\n",
       "      <td>0.000000</td>\n",
       "      <td>0.6960</td>\n",
       "      <td>0.348</td>\n",
       "      <td>144.026</td>\n",
       "      <td>audio_features</td>\n",
       "      <td>7eJMfftS33KTjuF7lTsMCx</td>\n",
       "      <td>spotify:track:7eJMfftS33KTjuF7lTsMCx</td>\n",
       "      <td>https://api.spotify.com/v1/tracks/7eJMfftS33KT...</td>\n",
       "      <td>https://api.spotify.com/v1/audio-analysis/7eJM...</td>\n",
       "      <td>173333</td>\n",
       "      <td>4</td>\n",
       "    </tr>\n",
       "    <tr>\n",
       "      <td>4</td>\n",
       "      <td>0.794</td>\n",
       "      <td>0.793</td>\n",
       "      <td>11</td>\n",
       "      <td>-4.521</td>\n",
       "      <td>0</td>\n",
       "      <td>0.0842</td>\n",
       "      <td>0.01250</td>\n",
       "      <td>0.000000</td>\n",
       "      <td>0.0952</td>\n",
       "      <td>0.677</td>\n",
       "      <td>123.941</td>\n",
       "      <td>audio_features</td>\n",
       "      <td>3PfIrDoz19wz7qK7tYeu62</td>\n",
       "      <td>spotify:track:3PfIrDoz19wz7qK7tYeu62</td>\n",
       "      <td>https://api.spotify.com/v1/tracks/3PfIrDoz19wz...</td>\n",
       "      <td>https://api.spotify.com/v1/audio-analysis/3PfI...</td>\n",
       "      <td>183290</td>\n",
       "      <td>4</td>\n",
       "    </tr>\n",
       "  </tbody>\n",
       "</table>\n",
       "</div>"
      ],
      "text/plain": [
       "   danceability  energy  key  loudness  mode  speechiness  acousticness  \\\n",
       "0         0.514   0.730    1    -5.934     1       0.0598       0.00146   \n",
       "1         0.834   0.454    1    -9.750     0       0.2010       0.32100   \n",
       "2         0.770   0.724    8    -5.484     1       0.0495       0.01670   \n",
       "3         0.726   0.431    8    -8.765     0       0.1350       0.73100   \n",
       "4         0.794   0.793   11    -4.521     0       0.0842       0.01250   \n",
       "\n",
       "   instrumentalness  liveness  valence    tempo            type  \\\n",
       "0          0.000095    0.0897    0.334  171.005  audio_features   \n",
       "1          0.000006    0.1140    0.837   81.618  audio_features   \n",
       "2          0.010700    0.3530    0.898  121.975  audio_features   \n",
       "3          0.000000    0.6960    0.348  144.026  audio_features   \n",
       "4          0.000000    0.0952    0.677  123.941  audio_features   \n",
       "\n",
       "                       id                                   uri  \\\n",
       "0  0VjIjW4GlUZAMYd2vXMi3b  spotify:track:0VjIjW4GlUZAMYd2vXMi3b   \n",
       "1  127QTOFJsJQp5LbJbu3A1y  spotify:track:127QTOFJsJQp5LbJbu3A1y   \n",
       "2  24Yi9hE78yPEbZ4kxyoXAI  spotify:track:24Yi9hE78yPEbZ4kxyoXAI   \n",
       "3  7eJMfftS33KTjuF7lTsMCx  spotify:track:7eJMfftS33KTjuF7lTsMCx   \n",
       "4  3PfIrDoz19wz7qK7tYeu62  spotify:track:3PfIrDoz19wz7qK7tYeu62   \n",
       "\n",
       "                                          track_href  \\\n",
       "0  https://api.spotify.com/v1/tracks/0VjIjW4GlUZA...   \n",
       "1  https://api.spotify.com/v1/tracks/127QTOFJsJQp...   \n",
       "2  https://api.spotify.com/v1/tracks/24Yi9hE78yPE...   \n",
       "3  https://api.spotify.com/v1/tracks/7eJMfftS33KT...   \n",
       "4  https://api.spotify.com/v1/tracks/3PfIrDoz19wz...   \n",
       "\n",
       "                                        analysis_url  duration_ms  \\\n",
       "0  https://api.spotify.com/v1/audio-analysis/0VjI...       200040   \n",
       "1  https://api.spotify.com/v1/audio-analysis/127Q...       247059   \n",
       "2  https://api.spotify.com/v1/audio-analysis/24Yi...       176840   \n",
       "3  https://api.spotify.com/v1/audio-analysis/7eJM...       173333   \n",
       "4  https://api.spotify.com/v1/audio-analysis/3PfI...       183290   \n",
       "\n",
       "   time_signature  \n",
       "0               4  \n",
       "1               4  \n",
       "2               4  \n",
       "3               4  \n",
       "4               4  "
      ]
     },
     "execution_count": 15,
     "metadata": {},
     "output_type": "execute_result"
    }
   ],
   "source": [
    "df_audio_features = pd.DataFrame.from_dict(rows,orient='columns')\n",
    "print(\"Shape of the dataset:\", df_audio_features.shape)\n",
    "df_audio_features.head()"
   ]
  },
  {
   "cell_type": "code",
   "execution_count": 16,
   "metadata": {},
   "outputs": [
    {
     "data": {
      "text/plain": [
       "(200, 14)"
      ]
     },
     "execution_count": 16,
     "metadata": {},
     "output_type": "execute_result"
    }
   ],
   "source": [
    "columns_to_drop = ['analysis_url','track_href','type','uri']\n",
    "df_audio_features.drop(columns_to_drop, axis=1,inplace=True)\n",
    "\n",
    "df_audio_features.rename(columns={'id': 'track_id'}, inplace=True)\n",
    "\n",
    "df_audio_features.shape"
   ]
  },
  {
   "cell_type": "code",
   "execution_count": 17,
   "metadata": {},
   "outputs": [
    {
     "name": "stdout",
     "output_type": "stream",
     "text": [
      "Shape of the dataset: (200, 14)\n"
     ]
    },
    {
     "data": {
      "text/html": [
       "<div>\n",
       "<style scoped>\n",
       "    .dataframe tbody tr th:only-of-type {\n",
       "        vertical-align: middle;\n",
       "    }\n",
       "\n",
       "    .dataframe tbody tr th {\n",
       "        vertical-align: top;\n",
       "    }\n",
       "\n",
       "    .dataframe thead th {\n",
       "        text-align: right;\n",
       "    }\n",
       "</style>\n",
       "<table border=\"1\" class=\"dataframe\">\n",
       "  <thead>\n",
       "    <tr style=\"text-align: right;\">\n",
       "      <th></th>\n",
       "      <th>artist_name</th>\n",
       "      <th>track_name</th>\n",
       "      <th>track_id</th>\n",
       "      <th>popularity</th>\n",
       "      <th>danceability</th>\n",
       "      <th>energy</th>\n",
       "      <th>key</th>\n",
       "      <th>loudness</th>\n",
       "      <th>mode</th>\n",
       "      <th>speechiness</th>\n",
       "      <th>acousticness</th>\n",
       "      <th>instrumentalness</th>\n",
       "      <th>liveness</th>\n",
       "      <th>valence</th>\n",
       "      <th>tempo</th>\n",
       "      <th>duration_ms</th>\n",
       "      <th>time_signature</th>\n",
       "    </tr>\n",
       "  </thead>\n",
       "  <tbody>\n",
       "    <tr>\n",
       "      <td>0</td>\n",
       "      <td>The Weeknd</td>\n",
       "      <td>Blinding Lights</td>\n",
       "      <td>0VjIjW4GlUZAMYd2vXMi3b</td>\n",
       "      <td>1</td>\n",
       "      <td>0.514</td>\n",
       "      <td>0.730</td>\n",
       "      <td>1</td>\n",
       "      <td>-5.934</td>\n",
       "      <td>1</td>\n",
       "      <td>0.0598</td>\n",
       "      <td>0.00146</td>\n",
       "      <td>0.000095</td>\n",
       "      <td>0.0897</td>\n",
       "      <td>0.334</td>\n",
       "      <td>171.005</td>\n",
       "      <td>200040</td>\n",
       "      <td>4</td>\n",
       "    </tr>\n",
       "    <tr>\n",
       "      <td>1</td>\n",
       "      <td>Drake</td>\n",
       "      <td>Toosie Slide</td>\n",
       "      <td>127QTOFJsJQp5LbJbu3A1y</td>\n",
       "      <td>2</td>\n",
       "      <td>0.834</td>\n",
       "      <td>0.454</td>\n",
       "      <td>1</td>\n",
       "      <td>-9.750</td>\n",
       "      <td>0</td>\n",
       "      <td>0.2010</td>\n",
       "      <td>0.32100</td>\n",
       "      <td>0.000006</td>\n",
       "      <td>0.1140</td>\n",
       "      <td>0.837</td>\n",
       "      <td>81.618</td>\n",
       "      <td>247059</td>\n",
       "      <td>4</td>\n",
       "    </tr>\n",
       "    <tr>\n",
       "      <td>2</td>\n",
       "      <td>SAINt JHN</td>\n",
       "      <td>Roses - Imanbek Remix</td>\n",
       "      <td>24Yi9hE78yPEbZ4kxyoXAI</td>\n",
       "      <td>3</td>\n",
       "      <td>0.770</td>\n",
       "      <td>0.724</td>\n",
       "      <td>8</td>\n",
       "      <td>-5.484</td>\n",
       "      <td>1</td>\n",
       "      <td>0.0495</td>\n",
       "      <td>0.01670</td>\n",
       "      <td>0.010700</td>\n",
       "      <td>0.3530</td>\n",
       "      <td>0.898</td>\n",
       "      <td>121.975</td>\n",
       "      <td>176840</td>\n",
       "      <td>4</td>\n",
       "    </tr>\n",
       "    <tr>\n",
       "      <td>3</td>\n",
       "      <td>Powfu</td>\n",
       "      <td>death bed (coffee for your head) (feat. beabad...</td>\n",
       "      <td>7eJMfftS33KTjuF7lTsMCx</td>\n",
       "      <td>4</td>\n",
       "      <td>0.726</td>\n",
       "      <td>0.431</td>\n",
       "      <td>8</td>\n",
       "      <td>-8.765</td>\n",
       "      <td>0</td>\n",
       "      <td>0.1350</td>\n",
       "      <td>0.73100</td>\n",
       "      <td>0.000000</td>\n",
       "      <td>0.6960</td>\n",
       "      <td>0.348</td>\n",
       "      <td>144.026</td>\n",
       "      <td>173333</td>\n",
       "      <td>4</td>\n",
       "    </tr>\n",
       "    <tr>\n",
       "      <td>4</td>\n",
       "      <td>Dua Lipa</td>\n",
       "      <td>Don't Start Now</td>\n",
       "      <td>3PfIrDoz19wz7qK7tYeu62</td>\n",
       "      <td>5</td>\n",
       "      <td>0.794</td>\n",
       "      <td>0.793</td>\n",
       "      <td>11</td>\n",
       "      <td>-4.521</td>\n",
       "      <td>0</td>\n",
       "      <td>0.0842</td>\n",
       "      <td>0.01250</td>\n",
       "      <td>0.000000</td>\n",
       "      <td>0.0952</td>\n",
       "      <td>0.677</td>\n",
       "      <td>123.941</td>\n",
       "      <td>183290</td>\n",
       "      <td>4</td>\n",
       "    </tr>\n",
       "  </tbody>\n",
       "</table>\n",
       "</div>"
      ],
      "text/plain": [
       "  artist_name                                         track_name  \\\n",
       "0  The Weeknd                                    Blinding Lights   \n",
       "1       Drake                                       Toosie Slide   \n",
       "2   SAINt JHN                              Roses - Imanbek Remix   \n",
       "3       Powfu  death bed (coffee for your head) (feat. beabad...   \n",
       "4    Dua Lipa                                    Don't Start Now   \n",
       "\n",
       "                 track_id  popularity  danceability  energy  key  loudness  \\\n",
       "0  0VjIjW4GlUZAMYd2vXMi3b           1         0.514   0.730    1    -5.934   \n",
       "1  127QTOFJsJQp5LbJbu3A1y           2         0.834   0.454    1    -9.750   \n",
       "2  24Yi9hE78yPEbZ4kxyoXAI           3         0.770   0.724    8    -5.484   \n",
       "3  7eJMfftS33KTjuF7lTsMCx           4         0.726   0.431    8    -8.765   \n",
       "4  3PfIrDoz19wz7qK7tYeu62           5         0.794   0.793   11    -4.521   \n",
       "\n",
       "   mode  speechiness  acousticness  instrumentalness  liveness  valence  \\\n",
       "0     1       0.0598       0.00146          0.000095    0.0897    0.334   \n",
       "1     0       0.2010       0.32100          0.000006    0.1140    0.837   \n",
       "2     1       0.0495       0.01670          0.010700    0.3530    0.898   \n",
       "3     0       0.1350       0.73100          0.000000    0.6960    0.348   \n",
       "4     0       0.0842       0.01250          0.000000    0.0952    0.677   \n",
       "\n",
       "     tempo  duration_ms  time_signature  \n",
       "0  171.005       200040               4  \n",
       "1   81.618       247059               4  \n",
       "2  121.975       176840               4  \n",
       "3  144.026       173333               4  \n",
       "4  123.941       183290               4  "
      ]
     },
     "execution_count": 17,
     "metadata": {},
     "output_type": "execute_result"
    }
   ],
   "source": [
    "# merge both dataframes\n",
    "# the 'inner' method will make sure that we only keep track IDs present in both datasets\n",
    "df = pd.merge(df_tracks,df_audio_features,on='track_id',how='inner')\n",
    "print(\"Shape of the dataset:\", df_audio_features.shape)\n",
    "df.head()"
   ]
  },
  {
   "cell_type": "code",
   "execution_count": 18,
   "metadata": {},
   "outputs": [
    {
     "data": {
      "text/html": [
       "<div>\n",
       "<style scoped>\n",
       "    .dataframe tbody tr th:only-of-type {\n",
       "        vertical-align: middle;\n",
       "    }\n",
       "\n",
       "    .dataframe tbody tr th {\n",
       "        vertical-align: top;\n",
       "    }\n",
       "\n",
       "    .dataframe thead th {\n",
       "        text-align: right;\n",
       "    }\n",
       "</style>\n",
       "<table border=\"1\" class=\"dataframe\">\n",
       "  <thead>\n",
       "    <tr style=\"text-align: right;\">\n",
       "      <th></th>\n",
       "      <th>artist_name</th>\n",
       "      <th>track_name</th>\n",
       "      <th>track_id</th>\n",
       "      <th>popularity</th>\n",
       "      <th>danceability</th>\n",
       "      <th>energy</th>\n",
       "      <th>key</th>\n",
       "      <th>loudness</th>\n",
       "      <th>mode</th>\n",
       "      <th>speechiness</th>\n",
       "      <th>acousticness</th>\n",
       "      <th>instrumentalness</th>\n",
       "      <th>liveness</th>\n",
       "      <th>valence</th>\n",
       "      <th>tempo</th>\n",
       "      <th>duration_ms</th>\n",
       "      <th>time_signature</th>\n",
       "    </tr>\n",
       "  </thead>\n",
       "  <tbody>\n",
       "  </tbody>\n",
       "</table>\n",
       "</div>"
      ],
      "text/plain": [
       "Empty DataFrame\n",
       "Columns: [artist_name, track_name, track_id, popularity, danceability, energy, key, loudness, mode, speechiness, acousticness, instrumentalness, liveness, valence, tempo, duration_ms, time_signature]\n",
       "Index: []"
      ]
     },
     "execution_count": 18,
     "metadata": {},
     "output_type": "execute_result"
    }
   ],
   "source": [
    "df[df.duplicated(subset=['artist_name','track_name'],keep=False)]"
   ]
  },
  {
   "cell_type": "code",
   "execution_count": 19,
   "metadata": {},
   "outputs": [],
   "source": [
    "df.to_csv('SpotifyAudioFeatures23042020.csv')"
   ]
  },
  {
   "cell_type": "code",
   "execution_count": null,
   "metadata": {},
   "outputs": [],
   "source": []
  }
 ],
 "metadata": {
  "kernelspec": {
   "display_name": "Python 3",
   "language": "python",
   "name": "python3"
  },
  "language_info": {
   "codemirror_mode": {
    "name": "ipython",
    "version": 3
   },
   "file_extension": ".py",
   "mimetype": "text/x-python",
   "name": "python",
   "nbconvert_exporter": "python",
   "pygments_lexer": "ipython3",
   "version": "3.7.4"
  }
 },
 "nbformat": 4,
 "nbformat_minor": 2
}
