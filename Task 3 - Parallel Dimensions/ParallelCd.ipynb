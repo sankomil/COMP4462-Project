{
  "nbformat": 4,
  "nbformat_minor": 0,
  "metadata": {
    "colab": {
      "name": "ParallelCd.ipynb",
      "provenance": [],
      "private_outputs": true,
      "collapsed_sections": []
    },
    "kernelspec": {
      "name": "python3",
      "display_name": "Python 3"
    },
    "accelerator": "GPU"
  },
  "cells": [
    {
      "cell_type": "code",
      "metadata": {
        "id": "OUnVcd6xGZpt",
        "colab_type": "code",
        "colab": {}
      },
      "source": [
        "pip install plotly"
      ],
      "execution_count": 0,
      "outputs": []
    },
    {
      "cell_type": "code",
      "metadata": {
        "id": "tyuFoygwGqJp",
        "colab_type": "code",
        "colab": {}
      },
      "source": [
        "pip install chart_studio"
      ],
      "execution_count": 0,
      "outputs": []
    },
    {
      "cell_type": "code",
      "metadata": {
        "id": "Z19uQ_KmGwLV",
        "colab_type": "code",
        "colab": {}
      },
      "source": [
        "import chart_studio.plotly as py\n",
        "import plotly.graph_objects as go\n",
        "from plotly.offline import iplot\n",
        "\n",
        "import pandas as pd\n",
        "import numpy as np\n",
        "\n",
        "import ssl\n",
        "\n",
        "ssl._create_default_https_context = ssl._create_unverified_context\n",
        "\n",
        "df = pd.read_csv(\"/content/pl_cd.csv\")\n",
        "\n",
        "fig = go.Figure(data = \n",
        "    go.Parcoords(\n",
        "        line = dict(color = df['Month'],\n",
        "                   colorscale = 'Jet',\n",
        "                   showscale = True,\n",
        "                   reversescale = True,\n",
        "                   cmin = 1,\n",
        "                   cmax = 12),\n",
        "            dimensions = list([\n",
        "            \n",
        "            dict(range = [1,12],\n",
        "                 label = 'Month', values = df['Month']),\n",
        "            dict(range = [1,600],\n",
        "                 label = 'id', values = df['id']),            \n",
        "            dict(range = [1,50],\n",
        "                 label = 'popularity', values = df['popularity']),\n",
        "            dict(range = [0,1],\n",
        "                 label = 'acousticness', values = df['acousticness']),\n",
        "            dict(range = [0,1],\n",
        "                 label = 'danceability', values = df['danceability']),\n",
        "            dict(range = [104,361],\n",
        "                 label = 'duration_ms', values = df['duration_ms']/1000),\n",
        "            dict(range = [0,1],\n",
        "                 label = 'energy', values = df['energy']),\n",
        "            dict(range = [0,0.7],\n",
        "                 label = 'instrumentalness', values = df['instrumentalness']),\n",
        "            dict(range = [0,11],\n",
        "                 label = 'key', values = df['key']),\n",
        "            dict(range = [0,1],\n",
        "                 label = 'liveness', values = df['liveness']),\n",
        "            dict(range = [-60,2],\n",
        "                 label = 'loudness', values = df['loudness']),\n",
        "            dict(range = [0,1],\n",
        "                 label = 'mode', values = df['mode']),\n",
        "            dict(range = [0,1],\n",
        "                 label = 'speechiness', values = df['speechiness']),\n",
        "            dict(range = [0,5],\n",
        "                 label = 'time_signature', values = df['time_signature']),\n",
        "            dict(range = [0,1],\n",
        "                 label = 'valence', values = df['valence']),\n",
        "            dict(range = [65,203],\n",
        "                 label = 'tempo', values = df['tempo'])])\n",
        "    )\n",
        ")\n",
        "fig.update_layout(\n",
        "    autosize=False,\n",
        "    width=1330,\n",
        "    height=600)\n",
        "fig.show()\n",
        "\n"
      ],
      "execution_count": 0,
      "outputs": []
    },
    {
      "cell_type": "code",
      "metadata": {
        "id": "Zor3W2OIG9Ra",
        "colab_type": "code",
        "colab": {}
      },
      "source": [
        "import plotly.express as px\n",
        "import pandas as pd\n",
        "df  = pd.read_csv(\"/content/pl_cd.csv\")\n",
        "fig = px.parallel_categories( df, color= \"Month\", color_continuous_scale = px.colors.sequential.Inferno)\n",
        "fig.update_layout(\n",
        "    autosize=False,\n",
        "    width=2000,\n",
        "    height=600)\n",
        "fig.show()"
      ],
      "execution_count": 0,
      "outputs": []
    },
    {
      "cell_type": "code",
      "metadata": {
        "id": "kz7Caae9ZbVP",
        "colab_type": "code",
        "colab": {}
      },
      "source": [
        ""
      ],
      "execution_count": 0,
      "outputs": []
    }
  ]
}